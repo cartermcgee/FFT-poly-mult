{
  "nbformat": 4,
  "nbformat_minor": 0,
  "metadata": {
    "colab": {
      "name": "FFT_poly_multiplication.ipynb",
      "provenance": [],
      "collapsed_sections": []
    },
    "kernelspec": {
      "name": "python3",
      "display_name": "Python 3"
    }
  },
  "cells": [
    {
      "cell_type": "code",
      "metadata": {
        "id": "L_wW1EdfYhxM"
      },
      "source": [
        "# Carter McGee A02248916\n",
        "import cmath, math\n",
        "import numpy as np\n",
        "import random\n",
        "import matplotlib.pyplot as plt\n",
        "import time\n",
        "from scipy import stats\n",
        "import gc"
      ],
      "execution_count": 31,
      "outputs": []
    },
    {
      "cell_type": "code",
      "metadata": {
        "id": "LdK4mDGKZEs_"
      },
      "source": [
        "# generate an omegalist using trig\n",
        "def get_omegalist(howMany):\n",
        "  angleList = [i*2*math.pi/howMany for i in range(0, howMany)]\n",
        "  omegaList = [complex(math.cos(angle), math.sin(angle)) for angle in angleList]\n",
        "  return omegaList\n",
        "             "
      ],
      "execution_count": 12,
      "outputs": []
    },
    {
      "cell_type": "markdown",
      "metadata": {
        "id": "VGSceryofUnj"
      },
      "source": [
        "FFT Algorithm"
      ]
    },
    {
      "cell_type": "code",
      "metadata": {
        "id": "26veYtnrwML8"
      },
      "source": [
        "def FFT(P, X, n):\n",
        "  # P is the input coeficients of the polynomial (must be complex numbers)\n",
        "  # X is the omega array of size n\n",
        "  # n is the length of X and P\n",
        "  # returns a list of values of P at x_i of length 1*n\n",
        "  if n == 1:\n",
        "    return [P[0]]\n",
        "  m = n//2\n",
        "  # prob decomposition\n",
        "  # odd and even\n",
        "  P_odd = [P[i] for i in range(1,n,2)]\n",
        "  P_even = [P[i] for i in range(0,n,2)]\n",
        "  # omega squared array size m\n",
        "  newX = [X[i]*X[i] for i in range(0, m)]\n",
        "  # Solve the smaller problems\n",
        "  Sol_odd = FFT(P_odd, newX, m)\n",
        "  Sol_even = FFT(P_even, newX, m)\n",
        "  # solution construction\n",
        "  Sol_P = [0]*n\n",
        "  for i in range(m):\n",
        "    # P(x) = P_e(x^2) + x*P_o(x^2)\n",
        "    # P(-x) = P_e(x^2) - x*P_o(x^2)\n",
        "    Sol_P[i] = Sol_even[i] + X[i]*Sol_odd[i]\n",
        "    Sol_P[i+m] = Sol_even[i] - X[i]*Sol_odd[i]\n",
        "  return Sol_P\n",
        "  "
      ],
      "execution_count": 13,
      "outputs": []
    },
    {
      "cell_type": "markdown",
      "metadata": {
        "id": "9xNqI3bOfXoZ"
      },
      "source": [
        "FFT Polynomial Multiplication Algorithm"
      ]
    },
    {
      "cell_type": "code",
      "metadata": {
        "id": "5iCb0tiKKkvS"
      },
      "source": [
        "def FFT_poly_mult(P, Q, n):\n",
        "  P += [0]*n\n",
        "  Q += [0]*n\n",
        "  omega = get_omegalist(2*n)\n",
        "  P_fft = FFT(P, omega, 2*n)\n",
        "  Q_fft = FFT(Q, omega, 2*n)\n",
        "\n",
        "  PQ = [0]*2*n\n",
        "  for i in range(2*n):\n",
        "    PQ[i] = P_fft[i]*Q_fft[i]\n",
        "\n",
        "  conjugate = []\n",
        "  for term in omega:\n",
        "    conjugate.append(term.conjugate())\n",
        "  \n",
        "  PQ = FFT(PQ, conjugate, 2*n)\n",
        "  return [int(round(PQ[i].real)/(2*n)) for i in range(2*n)]\n"
      ],
      "execution_count": 14,
      "outputs": []
    },
    {
      "cell_type": "code",
      "metadata": {
        "id": "wAf-zA7mZd9k"
      },
      "source": [
        "def polyMult3(P, Q, n):\n",
        "  # input is P and Q of length n, solution is the product of the polynomials of length 2*n\n",
        "  # simple problem --> simple solution\n",
        "  if n == 1:\n",
        "    return [P[0] * Q[0], 0] # need to add the high order term because must return solution of length 2*n\n",
        "  m = n//2\n",
        "  # generate 3 problems of 1/2 size and solve them\n",
        "  # PQ = sol_2 + (sol_1-sol_2-sol_3)x + (sol_3)x^2\n",
        "  Padd = [P[i] + P[i+m] for i in range(0,m)]\n",
        "  Qadd = [Q[i] + Q[i+m] for i in range(0,m)]\n",
        "  sol_1 = polyMult3(Padd, Qadd, m)\n",
        "  sol_2 = polyMult3(P[0:m], Q[0:m], m)\n",
        "  sol_3 = polyMult3(P[m:], Q[m:], m)\n",
        "\n",
        "  # reconstruct the solution. Use the powers of x in the math as indexes!\n",
        "  PQ = [0]*2*n # solution is of length 2n\n",
        "  for i in range(0, n):\n",
        "    PQ[i] += sol_2[i]\n",
        "    PQ[i + m] += (sol_1[i] - sol_2[i] - sol_3[i])\n",
        "    PQ[i + n] += sol_3[i]\n",
        "\n",
        "  return PQ"
      ],
      "execution_count": 15,
      "outputs": []
    },
    {
      "cell_type": "code",
      "metadata": {
        "id": "rWnAVxP0Zf_L"
      },
      "source": [
        "def polyMultSchool(P, Q, n):\n",
        "  # P Q are polynomials of length n\n",
        "  # create an array of the solution\n",
        "  PQ = [0]*2*n\n",
        "  # enumerate through each coeficient in P\n",
        "  for i in range(0, n):\n",
        "    # enumerate through each coeficient in Q\n",
        "    for j in range(0, n):\n",
        "      # multiply the coeficients AND ACCUMULATE THEM IN THE CORRECT PLACE IN THE SOLUTION\n",
        "      # recall that (p_i * x^i) * (q_j * x^j) = p_i * q_j * x^(i+j)\n",
        "      PQ[i+j] = PQ[i+j] + P[i] * Q[j]\n",
        "      # since many combinations of i and j lead to the same sum, we have to accumulate the values\n",
        "  return PQ"
      ],
      "execution_count": 16,
      "outputs": []
    },
    {
      "cell_type": "markdown",
      "metadata": {
        "id": "TW3nApn8fbJN"
      },
      "source": [
        "Test that the FFT algorithm, 3 Subproblems Algorithm, and High School Algorithm return the same answer"
      ]
    },
    {
      "cell_type": "code",
      "metadata": {
        "id": "5-ZDb6sPZiRV",
        "outputId": "c7d5d62f-4a7e-4890-9248-0f2e50a1099b",
        "colab": {
          "base_uri": "https://localhost:8080/",
          "height": 715
        }
      },
      "source": [
        "def test_results():\n",
        "  print('Testing that the FFT algorithm, 3 Subproblems Algorithm, and High School Algorithm return the same answer...')\n",
        "  print('  Integers:')\n",
        "  for n in range(1, 13):\n",
        "    for i in range(3):\n",
        "      P = [random.randint(0,100) for j in range(2**n)]\n",
        "      Q = [random.randint(0,100) for j in range(2**n)]\n",
        "      hs_result = polyMultSchool(P, Q, 2**n)\n",
        "      pm3_result = polyMult3(P, Q, 2**n)\n",
        "      fft_result = FFT_poly_mult(P, Q, 2**n)\n",
        "      test_passed = (fft_result == pm3_result) and (fft_result == hs_result)\n",
        "      print('\\tRandom problem of size ', 2**n, '\\t: ', test_passed)\n",
        "\n",
        "test_results()"
      ],
      "execution_count": 17,
      "outputs": [
        {
          "output_type": "stream",
          "text": [
            "Testing that the FFT algorithm, 3 Subproblems Algorithm, and High School Algorithm return the same answer...\n",
            "  Integers:\n",
            "\tRandom problem of size  2 \t:  True\n",
            "\tRandom problem of size  2 \t:  True\n",
            "\tRandom problem of size  2 \t:  True\n",
            "\tRandom problem of size  4 \t:  True\n",
            "\tRandom problem of size  4 \t:  True\n",
            "\tRandom problem of size  4 \t:  True\n",
            "\tRandom problem of size  8 \t:  True\n",
            "\tRandom problem of size  8 \t:  True\n",
            "\tRandom problem of size  8 \t:  True\n",
            "\tRandom problem of size  16 \t:  True\n",
            "\tRandom problem of size  16 \t:  True\n",
            "\tRandom problem of size  16 \t:  True\n",
            "\tRandom problem of size  32 \t:  True\n",
            "\tRandom problem of size  32 \t:  True\n",
            "\tRandom problem of size  32 \t:  True\n",
            "\tRandom problem of size  64 \t:  True\n",
            "\tRandom problem of size  64 \t:  True\n",
            "\tRandom problem of size  64 \t:  True\n",
            "\tRandom problem of size  128 \t:  True\n",
            "\tRandom problem of size  128 \t:  True\n",
            "\tRandom problem of size  128 \t:  True\n",
            "\tRandom problem of size  256 \t:  True\n",
            "\tRandom problem of size  256 \t:  True\n",
            "\tRandom problem of size  256 \t:  True\n",
            "\tRandom problem of size  512 \t:  True\n",
            "\tRandom problem of size  512 \t:  True\n",
            "\tRandom problem of size  512 \t:  True\n",
            "\tRandom problem of size  1024 \t:  True\n",
            "\tRandom problem of size  1024 \t:  True\n",
            "\tRandom problem of size  1024 \t:  True\n",
            "\tRandom problem of size  2048 \t:  True\n",
            "\tRandom problem of size  2048 \t:  True\n",
            "\tRandom problem of size  2048 \t:  True\n",
            "\tRandom problem of size  4096 \t:  True\n",
            "\tRandom problem of size  4096 \t:  True\n",
            "\tRandom problem of size  4096 \t:  True\n"
          ],
          "name": "stdout"
        }
      ]
    },
    {
      "cell_type": "markdown",
      "metadata": {
        "id": "eDIE4JO5khVc"
      },
      "source": [
        "Time Evaluation Experiment"
      ]
    },
    {
      "cell_type": "code",
      "metadata": {
        "id": "s_XnXcrskfxU"
      },
      "source": [
        "##Calculates the time taken by each function call and generates graph\n",
        "def timeCompareFunctions(problemList, functionList, init = None, fit = 'exponential'):\n",
        "  #problemList is a list of tuples [(size, arguments),...] ordered smallest to biggest\n",
        "  #runs and times the functions contained in functionList with each arguments \n",
        "  #generates a graph of run time as a function of problem size\n",
        "  # fit may be 'exponential' then the time as a function of problem size is assumed\n",
        "  #     to of the form time = c * a^n and the function solves for c and a\n",
        "  #     where a is the base of the exponential function and c is a multiplicative factor\n",
        "  # fit my be 'polynomial' then the time as a function of problem size is assumed\n",
        "  #     to of the form time = c * n ^ b and the function solves for c and b \n",
        "  #     where b is the power of n (the degree of the polynomial) and c is a multiplicative factor\n",
        "  # setup the graph\n",
        "    plt.xlabel(\"Problem size\")\n",
        "    plt.yscale('log')\n",
        "    if fit == 'polynomial':\n",
        "      plt.xscale('log')\n",
        "    plt.ylabel(\"time in milliseconds\")\n",
        "    plt.rcParams[\"figure.figsize\"] = [16,9]\n",
        " # get the problem sizes\n",
        "    values = [size for (size, args) in problemList]\n",
        "    # if not functionList is list:\n",
        "    #   functionList = [functionList]\n",
        "    # loop through each function\n",
        "    for function in functionList:\n",
        "      functionName = str(function).split(\" \")[1]\n",
        "      timeLine = []\n",
        "      for (size, args) in problemList:\n",
        "        start_time = time.time()\n",
        "        function(*args) #use the * to unpack the tuple into arguments to the function\n",
        "        elapsed = (time.time() - start_time)*1000.0\n",
        "        timeLine.append(elapsed)\n",
        "      ##Generating the plot between time taken by each function call with n as variable and n\n",
        "      plt.plot(values, timeLine, label = functionName)\n",
        "      # fit these timing studies to a curve\n",
        "      if fit == 'exponential': #fit a straight line to n and log time\n",
        "        slope, intercept, _, _, _ = stats.linregress([values], [np.log(t) for t in timeLine])\n",
        "        print(\"Function %s time = %.6f %.3f ^ n\" % (functionName, np.exp(intercept), np.exp(slope)))\n",
        "      elif fit == 'polynomial': # fit a straight line to log n and log time\n",
        "        slope, intercept, _, _, _ = stats.linregress([np.log(v) for v in values], [np.log(t) for t in timeLine])\n",
        "        print(\"Function %s time = %.6f n ^ %.3f\" % (functionName, np.exp(intercept), slope))\n",
        "    plt.legend(loc='upper left')\n",
        "    plt.show()"
      ],
      "execution_count": 18,
      "outputs": []
    },
    {
      "cell_type": "code",
      "metadata": {
        "id": "dv--8jF_ko7b",
        "outputId": "7ce01aa3-0cd8-456b-fe75-c92a6de1253a",
        "colab": {
          "base_uri": "https://localhost:8080/",
          "height": 338
        }
      },
      "source": [
        "problemSizes = [2**i for i in range(2, 14)]\n",
        "problemList = [(i, ([random.randint(0,100) for j in range(0,i)], \n",
        "                    [random.randint(0,100) for j in range(0,i)], i)) for i in problemSizes]\n",
        "timeCompareFunctions(problemList, [polyMultSchool, FFT_poly_mult, polyMult3], init = None, fit = 'polynomial')"
      ],
      "execution_count": 19,
      "outputs": [
        {
          "output_type": "stream",
          "text": [
            "Function polyMultSchool time = 0.000278 n ^ 1.939\n",
            "Function FFT_poly_mult time = 0.019460 n ^ 1.064\n",
            "Function polyMult3 time = 0.002820 n ^ 1.550\n"
          ],
          "name": "stdout"
        },
        {
          "output_type": "display_data",
          "data": {
            "image/png": "[encoded data removed]",
            "text/plain": [
              "<Figure size 432x288 with 1 Axes>"
            ]
          },
          "metadata": {
            "tags": [],
            "needs_background": "light"
          }
        }
      ]
    },
    {
      "cell_type": "code",
      "metadata": {
        "id": "d2JLKVdAlyVf",
        "outputId": "72b86685-ef33-4cf2-c914-db44eb766a3a",
        "colab": {
          "base_uri": "https://localhost:8080/",
          "height": 458
        }
      },
      "source": [
        "for i in range(1,100):\n",
        "  FFT_poly_mult([random.randint(0,100) for j in range(0,2**i)], [random.randint(0,100) for j in range(0,2**i)], 2**i)\n",
        "  print('Problem Size '+ str(2**i) + ':\\t Success')\n",
        "  gc.collect()\n"
      ],
      "execution_count": null,
      "outputs": [
        {
          "output_type": "stream",
          "text": [
            "Problem Size 2:\t Success\n",
            "Problem Size 4:\t Success\n",
            "Problem Size 8:\t Success\n",
            "Problem Size 16:\t Success\n",
            "Problem Size 32:\t Success\n",
            "Problem Size 64:\t Success\n",
            "Problem Size 128:\t Success\n",
            "Problem Size 256:\t Success\n",
            "Problem Size 512:\t Success\n",
            "Problem Size 1024:\t Success\n",
            "Problem Size 2048:\t Success\n",
            "Problem Size 4096:\t Success\n",
            "Problem Size 8192:\t Success\n",
            "Problem Size 16384:\t Success\n",
            "Problem Size 32768:\t Success\n",
            "Problem Size 65536:\t Success\n",
            "Problem Size 131072:\t Success\n",
            "Problem Size 262144:\t Success\n",
            "Problem Size 524288:\t Success\n",
            "Problem Size 1048576:\t Success\n",
            "Problem Size 2097152:\t Success\n",
            "Problem Size 4194304:\t Success\n",
            "Problem Size 8388608:\t Success\n",
            "Problem Size 16777216:\t Success\n"
          ],
          "name": "stdout"
        }
      ]
    },
    {
      "cell_type": "markdown",
      "metadata": {
        "id": "gW_L64F9Ck3E"
      },
      "source": [
        "I ran the FFT algorithm for problem sizes 2^1 - 2^100 and the remote computer ran out of RAM at problem size 2^24 before the algorithm crashed."
      ]
    }
  ]
}